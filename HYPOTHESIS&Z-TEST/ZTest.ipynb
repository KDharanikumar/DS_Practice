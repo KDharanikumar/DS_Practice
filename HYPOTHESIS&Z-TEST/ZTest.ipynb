{
 "cells": [
  {
   "cell_type": "code",
   "execution_count": null,
   "metadata": {},
   "outputs": [],
   "source": [
    "# CLASS - 24\n",
    "# Installing required packages (only needed for Jupyter/Colab)\n",
    "# !pip install statsmodels\n",
    "# !pip install scipy\n",
    "\n",
    "import numpy as np\n",
    "from statsmodels.stats.weightstats import ztest\n",
    "from scipy import stats\n",
    "\n",
    "# Your data\n",
    "data = [88, 92, 94, 96, 98, 100, 104, 106, 110, 111, 112, 113, 115, 116, 117, 118, 119, 120]\n",
    "\n",
    "# Performing the Z-test (one-sample)\n",
    "z_stat, p_value_ztest = ztest(data, value=100)\n",
    "print(f\"Z-test results: Z-stat = {z_stat}, P-value = {p_value_ztest}\")\n",
    "\n",
    "# Performing the T-test (one-sample)\n",
    "t_stat, p_value_ttest = stats.ttest_1samp(data, popmean=100)\n",
    "print(f\"T-test results: T-stat = {t_stat}, P-value = {p_value_ttest}\")\n"
   ]
  },
  {
   "cell_type": "code",
   "execution_count": null,
   "metadata": {},
   "outputs": [],
   "source": [
    "import numpy as np\n",
    "from statsmodels.stats.weightstats import ztest as ztest\n",
    "from scipy import stats\n",
    "\n",
    "# IQ Level\n",
    "\n",
    "cityA = [82,83,84,85,86,87,88,89,90,91,92,93,94,95,96,97,98,99,100,101,102,103,104,105,106,107,108,109,110,111,112]\n",
    "\n",
    "cityB = [90,95,98,99,104,107,110,112,118,121,125,127,129,130,131,132,133,134,135,137,140,143,145,147,148,149,151,153,155,157,160]\n",
    "\n",
    "ztest(cityA, cityB, value=0)\n",
    "stats.ttest_ind(a=cityA, b=cityB, equal_var=True)\n"
   ]
  },
  {
   "cell_type": "code",
   "execution_count": null,
   "metadata": {},
   "outputs": [],
   "source": [
    "\n",
    "import pandas as pd\n",
    "df=pd.read_csv('https://raw.githubusercontent.com/nethajinirmal13/Training-datasets/main/cs1%20(1).csv')\n",
    "df.shape\n",
    "df"
   ]
  },
  {
   "cell_type": "code",
   "execution_count": null,
   "metadata": {},
   "outputs": [],
   "source": [
    "%pip install matplotlib"
   ]
  },
  {
   "cell_type": "code",
   "execution_count": null,
   "metadata": {},
   "outputs": [],
   "source": [
    "df[\"income\"].hist(bins=100)"
   ]
  },
  {
   "cell_type": "code",
   "execution_count": null,
   "metadata": {},
   "outputs": [],
   "source": [
    "df[\"age\"].hist(bins=60)"
   ]
  },
  {
   "cell_type": "code",
   "execution_count": null,
   "metadata": {},
   "outputs": [],
   "source": [
    "print(df['age'])"
   ]
  },
  {
   "cell_type": "code",
   "execution_count": null,
   "metadata": {},
   "outputs": [],
   "source": [
    "import scipy.stats as st\n",
    "print(\"Sharpiro : \", st.shapiro(df[\"income\"]))\n"
   ]
  },
  {
   "cell_type": "code",
   "execution_count": null,
   "metadata": {},
   "outputs": [],
   "source": []
  }
 ],
 "metadata": {
  "kernelspec": {
   "display_name": "Python 3",
   "language": "python",
   "name": "python3"
  },
  "language_info": {
   "codemirror_mode": {
    "name": "ipython",
    "version": 3
   },
   "file_extension": ".py",
   "mimetype": "text/x-python",
   "name": "python",
   "nbconvert_exporter": "python",
   "pygments_lexer": "ipython3",
   "version": "3.13.0"
  }
 },
 "nbformat": 4,
 "nbformat_minor": 2
}
