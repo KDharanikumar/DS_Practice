{
 "cells": [
  {
   "cell_type": "code",
   "execution_count": null,
   "metadata": {},
   "outputs": [],
   "source": [
    "print(\"Hello World!\")"
   ]
  },
  {
   "cell_type": "code",
   "execution_count": null,
   "metadata": {},
   "outputs": [],
   "source": [
    "! pip install mysql-connector-python"
   ]
  },
  {
   "cell_type": "code",
   "execution_count": null,
   "metadata": {},
   "outputs": [],
   "source": [
    "import mysql.connector\n",
    "\n",
    "mydb = mysql.connector.connect(\n",
    "  host=\"localhost\",\n",
    "  user=\"root\",\n",
    "  password=\"welcome\",\n",
    ")\n",
    "print(mydb)\n",
    "mycursor = mydb.cursor(buffered=True)"
   ]
  },
  {
   "cell_type": "code",
   "execution_count": null,
   "metadata": {},
   "outputs": [],
   "source": [
    "mycursor.execute (\"SHOW DATABASES\")\n",
    "for x in mycursor:\n",
    "    print(x)"
   ]
  },
  {
   "cell_type": "code",
   "execution_count": null,
   "metadata": {},
   "outputs": [],
   "source": [
    "mycursor.execute(\"CREATE DATABASE datascience\")"
   ]
  },
  {
   "cell_type": "code",
   "execution_count": null,
   "metadata": {},
   "outputs": [],
   "source": [
    "mycursor.execute(\"USE dataScience\")  # Here we would say that we want to use the dataScience database so here after whatever we will give automatically use dataScience database."
   ]
  },
  {
   "cell_type": "code",
   "execution_count": null,
   "metadata": {},
   "outputs": [],
   "source": [
    "mycursor.execute(\"CREATE TABLE sqlpractice (student VARCHAR(20),course VARCHAR(20))\")\n",
    "mydb.commit()"
   ]
  },
  {
   "cell_type": "code",
   "execution_count": null,
   "metadata": {},
   "outputs": [],
   "source": [
    "mycursor.execute(\"INSERT INTO datascience.sqlpractice (student,course) Values('dharanikumar', 'fsd')\")\n",
    "mydb.commit()"
   ]
  },
  {
   "cell_type": "code",
   "execution_count": null,
   "metadata": {},
   "outputs": [],
   "source": [
    "mycursor.execute (\"DELETE FROM sqlpractice\")\n",
    "mydb.commit()\n"
   ]
  },
  {
   "cell_type": "code",
   "execution_count": null,
   "metadata": {},
   "outputs": [],
   "source": [
    "# Alter Table\n",
    "#  Add a new column at first\n",
    "# Incase Last i want Add column means dont give any thing like first or last\n",
    "\n",
    "mycursor.execute(\"ALTER TABLE sqlpractice ADD age INT(5) FIRST\")\n",
    "mydb.commit()\n"
   ]
  },
  {
   "cell_type": "code",
   "execution_count": null,
   "metadata": {},
   "outputs": [],
   "source": [
    "# Alter Table Column Inbetween\n",
    "# Incase Add column Inbetween columns mention Particular columns Name Then Use AFTER Keywords\n",
    "\n",
    "mycursor.execute(\"ALTER TABLE sqlpractice ADD grade VARCHAR(5) AFTER age\")\n",
    "mydb.commit()"
   ]
  },
  {
   "cell_type": "code",
   "execution_count": null,
   "metadata": {},
   "outputs": [],
   "source": [
    "# DROP COLUMN\n",
    "mycursor.execute(\"ALTER TABLE sqlpractice DROP COLUMN age\")\n",
    "mydb.commit()\n"
   ]
  },
  {
   "cell_type": "code",
   "execution_count": null,
   "metadata": {},
   "outputs": [],
   "source": [
    "# EXECUTE MANY FUNCTIONS\n",
    "sql = \"INSERT INTO sqlpractice (student, course) VALUES (%s, %s)\"\n",
    "val=[('Mani','Python'), ('Vijay', 'Java'),]\n",
    "mycursor.executemany(sql,val)\n",
    "mydb.commit()\n"
   ]
  },
  {
   "cell_type": "code",
   "execution_count": null,
   "metadata": {},
   "outputs": [],
   "source": [
    "# SHOW TABLES\n",
    "mycursor.execute(\"SHOW TABLES from datascience\")"
   ]
  },
  {
   "cell_type": "code",
   "execution_count": null,
   "metadata": {},
   "outputs": [],
   "source": [
    "# RENAME TABLE\n",
    "mycursor.execute(\"RENAME TABLE datascience.sqlpractice TO datascience.sql\")"
   ]
  },
  {
   "cell_type": "code",
   "execution_count": null,
   "metadata": {},
   "outputs": [],
   "source": [
    "# DATA BASE NAME USER INPUT GIVEN\n",
    "def create_database(db_name):\n",
    "  try:\n",
    "    mycursor.execute(\"create database {0}\" .format(db_name))\n",
    "    print(\"Database created successfully\")\n",
    "    mydb.commit()\n",
    "  except:\n",
    "    print(\"Database already exists\")\n",
    "database_name=input(\"Enter Database Name\")\n",
    "create_database(database_name)"
   ]
  },
  {
   "cell_type": "code",
   "execution_count": null,
   "metadata": {},
   "outputs": [],
   "source": [
    "# DELETE TABLE INSIDE DATA ONLY NOT FOR TABLE FORMAT AND COLUMN NAME\n",
    "\n",
    "mycursor.execute(\"TRUNCATE sql\")\n",
    "mydb.commit()"
   ]
  },
  {
   "cell_type": "code",
   "execution_count": null,
   "metadata": {},
   "outputs": [],
   "source": [
    "# DATE\n",
    "mycursor.execute(\"CREATE TABLE date (datein DATE)\")"
   ]
  },
  {
   "cell_type": "code",
   "execution_count": null,
   "metadata": {},
   "outputs": [],
   "source": [
    "mycursor.execute(\"INSERT INTO date (datein) VALUES (CURDATE())\")\n",
    "mycursor.execute(\"INSERT INTO date (datein) VALUES (CURRENT_DATE())\")"
   ]
  },
  {
   "cell_type": "code",
   "execution_count": null,
   "metadata": {},
   "outputs": [],
   "source": [
    "%pip install tabulate"
   ]
  },
  {
   "cell_type": "code",
   "execution_count": null,
   "metadata": {},
   "outputs": [],
   "source": [
    "from tabulate import tabulate\n",
    "\n",
    "mycursor.execute(\"SELECT * FROM diabetes\")\n",
    "out=mycursor.fetchall()\n",
    "# from tabulate import tabulate\n",
    "\n",
    "# Extract column names from the cursor description\n",
    "headers = [i[0] for i in mycursor.description]\n",
    "# Print the result in a table format using tabulate\n",
    "print(tabulate(out, headers=headers, tablefmt='psql'))"
   ]
  },
  {
   "cell_type": "code",
   "execution_count": null,
   "metadata": {},
   "outputs": [],
   "source": [
    "#  FIND DIABETES PATIENT AGE\n",
    "\n",
    "mycursor.execute(\"SELECT age, outcome FROM diabetes WHERE outcome =1\")\n",
    "out=mycursor.fetchall()\n",
    "# from tabulate import tabulate\n",
    "\n",
    "# Extract column names from the cursor description\n",
    "headers = [i[0] for i in mycursor.description]\n",
    "# Print the result in a table format using tabulate\n",
    "print(tabulate(out, headers=headers, tablefmt='psql'))"
   ]
  }
 ],
 "metadata": {
  "kernelspec": {
   "display_name": "Python 3",
   "language": "python",
   "name": "python3"
  },
  "language_info": {
   "codemirror_mode": {
    "name": "ipython",
    "version": 3
   },
   "file_extension": ".py",
   "mimetype": "text/x-python",
   "name": "python",
   "nbconvert_exporter": "python",
   "pygments_lexer": "ipython3",
   "version": "3.13.0"
  }
 },
 "nbformat": 4,
 "nbformat_minor": 2
}
