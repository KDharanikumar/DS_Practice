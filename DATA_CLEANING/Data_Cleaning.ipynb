{
 "cells": [
  {
   "cell_type": "markdown",
   "metadata": {},
   "source": [
    "DATA CLEANING CASE STUDY"
   ]
  },
  {
   "cell_type": "code",
   "execution_count": 1,
   "metadata": {},
   "outputs": [],
   "source": [
    "# Import libraries\n",
    "import pandas as pd\n",
    "import matplotlib.pyplot as plt\n",
    "import numpy as np\n",
    "import seaborn as sns\n",
    "import missingno as msno\n",
    "import datetime as dt"
   ]
  },
  {
   "cell_type": "code",
   "execution_count": 2,
   "metadata": {},
   "outputs": [],
   "source": [
    "# Read in the dataset\n",
    "airbnb = pd.read_csv('https://raw.githubusercontent.com/nethajinirmal13/Training-datasets/main/airbnb.csv?raw=true', index_col = 'Unnamed: 0')"
   ]
  },
  {
   "cell_type": "code",
   "execution_count": null,
   "metadata": {},
   "outputs": [],
   "source": [
    "airbnb"
   ]
  },
  {
   "cell_type": "code",
   "execution_count": null,
   "metadata": {},
   "outputs": [],
   "source": [
    "# Above link inside Data set type check\n",
    "airbnb.info()"
   ]
  },
  {
   "cell_type": "code",
   "execution_count": null,
   "metadata": {},
   "outputs": [],
   "source": [
    "# Check Unique In Every Column\n",
    "for col in airbnb.columns[0:]:\n",
    "   print(col, ': ', len(airbnb[col].unique()), 'labels')"
   ]
  },
  {
   "cell_type": "code",
   "execution_count": null,
   "metadata": {},
   "outputs": [],
   "source": [
    "airbnb.isnull().sum()"
   ]
  },
  {
   "cell_type": "code",
   "execution_count": null,
   "metadata": {},
   "outputs": [],
   "source": [
    "# Remove \"(\" and \")\" from coordinates\n",
    "airbnb['coordinates'] = airbnb['coordinates'].str.replace(\"(\",\"\")\n",
    "airbnb['coordinates'] = airbnb['coordinates'].str.replace(\")\",\"\")\n",
    "# Print the header of the column\n",
    "airbnb['coordinates'].head()"
   ]
  },
  {
   "cell_type": "code",
   "execution_count": null,
   "metadata": {},
   "outputs": [],
   "source": [
    "# This is above code another Method Strip Function Remove leading and trailing whitespace from the 'coordinates' column\n",
    "airbnb['coordinates'] = airbnb['coordinates'].str.strip()\n",
    "\n",
    "# Print the header of the column\n",
    "print(airbnb['coordinates'].head())\n"
   ]
  },
  {
   "cell_type": "code",
   "execution_count": null,
   "metadata": {},
   "outputs": [],
   "source": [
    "# Split column into two\n",
    "lat_long = airbnb['coordinates'].str.split(\",\", expand = True)\n",
    "lat_long.head()    # Here Head Means Top Data Incase we need top 10 Data means mention head function inside"
   ]
  },
  {
   "cell_type": "code",
   "execution_count": null,
   "metadata": {},
   "outputs": [],
   "source": [
    "# Assign correct columns to latitude and longitude columns in airbnb\n",
    "airbnb['latitude'] = lat_long[0]\n",
    "airbnb['longitude'] = lat_long[1]\n",
    "# Print the header and confirm new column creation\n",
    "airbnb.head()"
   ]
  },
  {
   "cell_type": "code",
   "execution_count": null,
   "metadata": {},
   "outputs": [],
   "source": [
    "# Convert latitude and longitude to float\n",
    "airbnb['latitude'] = airbnb['latitude'].astype('float')\n",
    "airbnb['longitude'] = airbnb['longitude'].astype('float')\n",
    "# Print dtypes again\n",
    "airbnb.dtypes"
   ]
  },
  {
   "cell_type": "code",
   "execution_count": 19,
   "metadata": {},
   "outputs": [],
   "source": [
    "# Drop coordinates column\n",
    "airbnb.drop('coordinates', axis = 1, inplace = True) # axis Means axis = 0 Row axis = 1 Column"
   ]
  },
  {
   "cell_type": "code",
   "execution_count": null,
   "metadata": {},
   "outputs": [],
   "source": [
    "# Price before Dollar Symbol Remove\n",
    "# Remove $ from price before conversion to float\n",
    "airbnb['price'] = airbnb['price'].str.strip(\"$\")\n",
    "# Print header to make sure change was done\n",
    "airbnb['price'].head()"
   ]
  },
  {
   "cell_type": "code",
   "execution_count": null,
   "metadata": {},
   "outputs": [],
   "source": [
    "# Convert price to float\n",
    "airbnb['price'] = airbnb['price'].astype('float')\n",
    "# Calculate mean of price after conversion\n",
    "airbnb['price'].mean()\n",
    "#airbnb['price'].max()\n"
   ]
  },
  {
   "cell_type": "code",
   "execution_count": null,
   "metadata": {},
   "outputs": [],
   "source": [
    "# Print header of two columns\n",
    "airbnb[['listing_added', 'last_review']].head()"
   ]
  },
  {
   "cell_type": "code",
   "execution_count": 23,
   "metadata": {},
   "outputs": [],
   "source": [
    "# Convert both columns to datetime\n",
    "airbnb['listing_added'] = pd.to_datetime(airbnb['listing_added'], format = '%Y-%m-%d')\n",
    "airbnb['last_review'] = pd.to_datetime(airbnb['last_review'], format = '%Y-%m-%d')"
   ]
  },
  {
   "cell_type": "code",
   "execution_count": null,
   "metadata": {},
   "outputs": [],
   "source": [
    "# Print header and datatypes of both columns again\n",
    "print(airbnb[['listing_added', 'last_review']].head())\n",
    "print(airbnb[['listing_added', 'last_review']].dtypes)"
   ]
  },
  {
   "cell_type": "code",
   "execution_count": null,
   "metadata": {},
   "outputs": [],
   "source": [
    "airbnb['room_type'].unique()"
   ]
  },
  {
   "cell_type": "code",
   "execution_count": null,
   "metadata": {},
   "outputs": [],
   "source": [
    "# Deal with capitalized values\n",
    "airbnb['room_type'] = airbnb['room_type'].str.lower()\n",
    "airbnb['room_type'].unique()"
   ]
  },
  {
   "cell_type": "code",
   "execution_count": null,
   "metadata": {},
   "outputs": [],
   "source": [
    "# Deal with capitalized values\n",
    "airbnb['room_type'] = airbnb['room_type'].str.lower()\n",
    "airbnb['room_type'].unique()"
   ]
  },
  {
   "cell_type": "code",
   "execution_count": null,
   "metadata": {},
   "outputs": [],
   "source": [
    "# Deal with trailing spaces\n",
    "airbnb['room_type'] = airbnb['room_type'].str.strip()\n",
    "airbnb['room_type'].unique()"
   ]
  },
  {
   "cell_type": "code",
   "execution_count": null,
   "metadata": {},
   "outputs": [],
   "source": [
    "# Replace values to 'Shared room', 'Entire place', 'Private room' and 'Hotel room' (if applicable).\n",
    "mappings = {'private room': 'Private Room',\n",
    "           'private': 'Private Room',\n",
    "           'entire home/apt': 'Entire place',\n",
    "           'shared room': 'Shared room',\n",
    "           'home': 'Entire place'}\n",
    "\n",
    "# Replace values and collapse data\n",
    "airbnb['room_type'] = airbnb['room_type'].replace(mappings)\n",
    "airbnb['room_type'].unique()"
   ]
  },
  {
   "cell_type": "code",
   "execution_count": null,
   "metadata": {},
   "outputs": [],
   "source": [
    "# Isolate rows of rating > 5.0\n",
    "airbnb[airbnb['rating'] > 5.0]"
   ]
  },
  {
   "cell_type": "code",
   "execution_count": 31,
   "metadata": {},
   "outputs": [],
   "source": [
    "# Drop these rows and make sure we have effected changes\n",
    "airbnb.drop(airbnb[airbnb['rating'] > 5.0].index, inplace = True)"
   ]
  },
  {
   "cell_type": "code",
   "execution_count": null,
   "metadata": {},
   "outputs": [],
   "source": [
    "%pip install missingno"
   ]
  },
  {
   "cell_type": "code",
   "execution_count": null,
   "metadata": {},
   "outputs": [],
   "source": [
    "# Visualize the missingness\n",
    "msno.matrix(airbnb)\n",
    "plt.show()"
   ]
  },
  {
   "cell_type": "code",
   "execution_count": null,
   "metadata": {},
   "outputs": [],
   "source": [
    "# Visualize the missingness on sorted values\n",
    "msno.matrix(airbnb.sort_values(by = 'rating'))\n",
    "plt.show()"
   ]
  },
  {
   "cell_type": "code",
   "execution_count": 35,
   "metadata": {},
   "outputs": [],
   "source": [
    "# Impute missing data\n",
    "airbnb = airbnb.fillna({'reviews_per_month':0,\n",
    "                       'number_of_stays':0,\n",
    "                       '5_stars':0})\n",
    "\n",
    "# Create is_rated column\n",
    "is_rated = np.where(airbnb['rating'].isna() == True, 0, 1)\n",
    "airbnb['is_rated'] = is_rated"
   ]
  },
  {
   "cell_type": "code",
   "execution_count": null,
   "metadata": {},
   "outputs": [],
   "source": [
    "airbnb.isna().sum()"
   ]
  },
  {
   "cell_type": "code",
   "execution_count": null,
   "metadata": {},
   "outputs": [],
   "source": [
    "print(airbnb['price'].dtype)"
   ]
  },
  {
   "cell_type": "code",
   "execution_count": 42,
   "metadata": {},
   "outputs": [
    {
     "data": {
      "text/plain": [
       "240     NaN\n",
       "280     NaN\n",
       "333     NaN\n",
       "408     NaN\n",
       "478     NaN\n",
       "         ..\n",
       "9655    NaN\n",
       "9744    NaN\n",
       "9775    NaN\n",
       "10009   NaN\n",
       "10010   NaN\n",
       "Name: price, Length: 131, dtype: float64"
      ]
     },
     "execution_count": 42,
     "metadata": {},
     "output_type": "execute_result"
    }
   ],
   "source": [
    "airbnb.loc[(airbnb['price'].isna()) & (airbnb['room_type'] == 'Private Room'), 'price']"
   ]
  },
  {
   "cell_type": "code",
   "execution_count": null,
   "metadata": {},
   "outputs": [],
   "source": [
    "# Get mean price per room_type\n",
    "airbnb.groupby('room_type').mean()['price']"
   ]
  },
  {
   "cell_type": "code",
   "execution_count": 44,
   "metadata": {},
   "outputs": [],
   "source": [
    "# Impute price based on conditions\n",
    "airbnb.loc[(airbnb['price'].isna()) & (airbnb['room_type'] == 'Entire place'), 'price'] = 209.7\n",
    "airbnb.loc[(airbnb['price'].isna()) & (airbnb['room_type'] == 'Private Room'), 'price'] = 88.02\n",
    "airbnb.loc[(airbnb['price'].isna()) & (airbnb['room_type'] == 'Shared room'), 'price'] = 70.41"
   ]
  },
  {
   "cell_type": "code",
   "execution_count": 46,
   "metadata": {},
   "outputs": [
    {
     "data": {
      "text/plain": [
       "datetime.date(2024, 12, 16)"
      ]
     },
     "execution_count": 46,
     "metadata": {},
     "output_type": "execute_result"
    }
   ],
   "source": [
    "# Doing some sanity checks on date data\n",
    "today = dt.date.today()\n",
    "today"
   ]
  },
  {
   "cell_type": "code",
   "execution_count": 47,
   "metadata": {},
   "outputs": [
    {
     "data": {
      "text/html": [
       "<div>\n",
       "<style scoped>\n",
       "    .dataframe tbody tr th:only-of-type {\n",
       "        vertical-align: middle;\n",
       "    }\n",
       "\n",
       "    .dataframe tbody tr th {\n",
       "        vertical-align: top;\n",
       "    }\n",
       "\n",
       "    .dataframe thead th {\n",
       "        text-align: right;\n",
       "    }\n",
       "</style>\n",
       "<table border=\"1\" class=\"dataframe\">\n",
       "  <thead>\n",
       "    <tr style=\"text-align: right;\">\n",
       "      <th></th>\n",
       "      <th>listing_id</th>\n",
       "      <th>name</th>\n",
       "      <th>host_id</th>\n",
       "      <th>host_name</th>\n",
       "      <th>neighbourhood_full</th>\n",
       "      <th>room_type</th>\n",
       "      <th>price</th>\n",
       "      <th>number_of_reviews</th>\n",
       "      <th>last_review</th>\n",
       "      <th>reviews_per_month</th>\n",
       "      <th>availability_365</th>\n",
       "      <th>rating</th>\n",
       "      <th>number_of_stays</th>\n",
       "      <th>5_stars</th>\n",
       "      <th>listing_added</th>\n",
       "      <th>latitude</th>\n",
       "      <th>longitude</th>\n",
       "      <th>is_rated</th>\n",
       "    </tr>\n",
       "  </thead>\n",
       "  <tbody>\n",
       "  </tbody>\n",
       "</table>\n",
       "</div>"
      ],
      "text/plain": [
       "Empty DataFrame\n",
       "Columns: [listing_id, name, host_id, host_name, neighbourhood_full, room_type, price, number_of_reviews, last_review, reviews_per_month, availability_365, rating, number_of_stays, 5_stars, listing_added, latitude, longitude, is_rated]\n",
       "Index: []"
      ]
     },
     "execution_count": 47,
     "metadata": {},
     "output_type": "execute_result"
    }
   ],
   "source": [
    "# Are there reviews in the future?\n",
    "airbnb[airbnb['last_review'].dt.date > today]"
   ]
  },
  {
   "cell_type": "code",
   "execution_count": 48,
   "metadata": {},
   "outputs": [
    {
     "data": {
      "text/html": [
       "<div>\n",
       "<style scoped>\n",
       "    .dataframe tbody tr th:only-of-type {\n",
       "        vertical-align: middle;\n",
       "    }\n",
       "\n",
       "    .dataframe tbody tr th {\n",
       "        vertical-align: top;\n",
       "    }\n",
       "\n",
       "    .dataframe thead th {\n",
       "        text-align: right;\n",
       "    }\n",
       "</style>\n",
       "<table border=\"1\" class=\"dataframe\">\n",
       "  <thead>\n",
       "    <tr style=\"text-align: right;\">\n",
       "      <th></th>\n",
       "      <th>listing_id</th>\n",
       "      <th>name</th>\n",
       "      <th>host_id</th>\n",
       "      <th>host_name</th>\n",
       "      <th>neighbourhood_full</th>\n",
       "      <th>room_type</th>\n",
       "      <th>price</th>\n",
       "      <th>number_of_reviews</th>\n",
       "      <th>last_review</th>\n",
       "      <th>reviews_per_month</th>\n",
       "      <th>availability_365</th>\n",
       "      <th>rating</th>\n",
       "      <th>number_of_stays</th>\n",
       "      <th>5_stars</th>\n",
       "      <th>listing_added</th>\n",
       "      <th>latitude</th>\n",
       "      <th>longitude</th>\n",
       "      <th>is_rated</th>\n",
       "    </tr>\n",
       "  </thead>\n",
       "  <tbody>\n",
       "  </tbody>\n",
       "</table>\n",
       "</div>"
      ],
      "text/plain": [
       "Empty DataFrame\n",
       "Columns: [listing_id, name, host_id, host_name, neighbourhood_full, room_type, price, number_of_reviews, last_review, reviews_per_month, availability_365, rating, number_of_stays, 5_stars, listing_added, latitude, longitude, is_rated]\n",
       "Index: []"
      ]
     },
     "execution_count": 48,
     "metadata": {},
     "output_type": "execute_result"
    }
   ],
   "source": [
    "# Are there listings in the future?\n",
    "airbnb[airbnb['listing_added'].dt.date > today]"
   ]
  },
  {
   "cell_type": "code",
   "execution_count": 49,
   "metadata": {},
   "outputs": [
    {
     "data": {
      "text/html": [
       "<div>\n",
       "<style scoped>\n",
       "    .dataframe tbody tr th:only-of-type {\n",
       "        vertical-align: middle;\n",
       "    }\n",
       "\n",
       "    .dataframe tbody tr th {\n",
       "        vertical-align: top;\n",
       "    }\n",
       "\n",
       "    .dataframe thead th {\n",
       "        text-align: right;\n",
       "    }\n",
       "</style>\n",
       "<table border=\"1\" class=\"dataframe\">\n",
       "  <thead>\n",
       "    <tr style=\"text-align: right;\">\n",
       "      <th></th>\n",
       "      <th>listing_id</th>\n",
       "      <th>name</th>\n",
       "      <th>host_id</th>\n",
       "      <th>host_name</th>\n",
       "      <th>neighbourhood_full</th>\n",
       "      <th>room_type</th>\n",
       "      <th>price</th>\n",
       "      <th>number_of_reviews</th>\n",
       "      <th>last_review</th>\n",
       "      <th>reviews_per_month</th>\n",
       "      <th>availability_365</th>\n",
       "      <th>rating</th>\n",
       "      <th>number_of_stays</th>\n",
       "      <th>5_stars</th>\n",
       "      <th>listing_added</th>\n",
       "      <th>latitude</th>\n",
       "      <th>longitude</th>\n",
       "      <th>is_rated</th>\n",
       "    </tr>\n",
       "  </thead>\n",
       "  <tbody>\n",
       "    <tr>\n",
       "      <th>4</th>\n",
       "      <td>22986519</td>\n",
       "      <td>Bedroom on the lively Lower East Side</td>\n",
       "      <td>154262349</td>\n",
       "      <td>Brooke</td>\n",
       "      <td>Manhattan, Lower East Side</td>\n",
       "      <td>Private Room</td>\n",
       "      <td>160.0</td>\n",
       "      <td>23</td>\n",
       "      <td>2019-06-12</td>\n",
       "      <td>2.29</td>\n",
       "      <td>102</td>\n",
       "      <td>3.822591</td>\n",
       "      <td>27.6</td>\n",
       "      <td>0.649383</td>\n",
       "      <td>2020-10-23</td>\n",
       "      <td>40.71884</td>\n",
       "      <td>-73.98354</td>\n",
       "      <td>1</td>\n",
       "    </tr>\n",
       "    <tr>\n",
       "      <th>50</th>\n",
       "      <td>20783900</td>\n",
       "      <td>Marvelous Manhattan Marble Hill Private Suites</td>\n",
       "      <td>148960265</td>\n",
       "      <td>Randy</td>\n",
       "      <td>Manhattan, Marble Hill</td>\n",
       "      <td>Private Room</td>\n",
       "      <td>93.0</td>\n",
       "      <td>7</td>\n",
       "      <td>2018-10-06</td>\n",
       "      <td>0.32</td>\n",
       "      <td>0</td>\n",
       "      <td>4.868036</td>\n",
       "      <td>8.4</td>\n",
       "      <td>0.609263</td>\n",
       "      <td>2020-02-17</td>\n",
       "      <td>40.87618</td>\n",
       "      <td>-73.91266</td>\n",
       "      <td>1</td>\n",
       "    </tr>\n",
       "    <tr>\n",
       "      <th>60</th>\n",
       "      <td>1908852</td>\n",
       "      <td>Oversized Studio By Columbus Circle</td>\n",
       "      <td>684629</td>\n",
       "      <td>Alana</td>\n",
       "      <td>Manhattan, Upper West Side</td>\n",
       "      <td>Entire place</td>\n",
       "      <td>189.0</td>\n",
       "      <td>7</td>\n",
       "      <td>2016-05-06</td>\n",
       "      <td>0.13</td>\n",
       "      <td>0</td>\n",
       "      <td>4.841204</td>\n",
       "      <td>8.4</td>\n",
       "      <td>0.725995</td>\n",
       "      <td>2017-09-17</td>\n",
       "      <td>40.77060</td>\n",
       "      <td>-73.98919</td>\n",
       "      <td>1</td>\n",
       "    </tr>\n",
       "    <tr>\n",
       "      <th>124</th>\n",
       "      <td>28659894</td>\n",
       "      <td>Private bedroom in prime Bushwick! Near Trains!!!</td>\n",
       "      <td>216235179</td>\n",
       "      <td>Nina</td>\n",
       "      <td>Brooklyn, Bushwick</td>\n",
       "      <td>Private Room</td>\n",
       "      <td>55.0</td>\n",
       "      <td>4</td>\n",
       "      <td>2019-04-12</td>\n",
       "      <td>0.58</td>\n",
       "      <td>358</td>\n",
       "      <td>4.916252</td>\n",
       "      <td>4.8</td>\n",
       "      <td>0.703117</td>\n",
       "      <td>2020-08-23</td>\n",
       "      <td>40.69988</td>\n",
       "      <td>-73.92072</td>\n",
       "      <td>1</td>\n",
       "    </tr>\n",
       "    <tr>\n",
       "      <th>511</th>\n",
       "      <td>33619855</td>\n",
       "      <td>Modern &amp; Spacious in trendy Crown Heights</td>\n",
       "      <td>253354074</td>\n",
       "      <td>Yehudis</td>\n",
       "      <td>Brooklyn, Crown Heights</td>\n",
       "      <td>entire place</td>\n",
       "      <td>150.0</td>\n",
       "      <td>6</td>\n",
       "      <td>2019-05-27</td>\n",
       "      <td>2.50</td>\n",
       "      <td>148</td>\n",
       "      <td>3.462432</td>\n",
       "      <td>7.2</td>\n",
       "      <td>0.610929</td>\n",
       "      <td>2020-10-07</td>\n",
       "      <td>40.66387</td>\n",
       "      <td>-73.93840</td>\n",
       "      <td>1</td>\n",
       "    </tr>\n",
       "    <tr>\n",
       "      <th>521</th>\n",
       "      <td>25317793</td>\n",
       "      <td>Awesome Cozy Room in The Heart of Sunnyside!</td>\n",
       "      <td>136406167</td>\n",
       "      <td>Kara</td>\n",
       "      <td>Queens, Sunnyside</td>\n",
       "      <td>Private Room</td>\n",
       "      <td>65.0</td>\n",
       "      <td>22</td>\n",
       "      <td>2019-06-11</td>\n",
       "      <td>1.63</td>\n",
       "      <td>131</td>\n",
       "      <td>4.442485</td>\n",
       "      <td>26.4</td>\n",
       "      <td>0.722388</td>\n",
       "      <td>2020-10-22</td>\n",
       "      <td>40.74090</td>\n",
       "      <td>-73.92696</td>\n",
       "      <td>1</td>\n",
       "    </tr>\n",
       "  </tbody>\n",
       "</table>\n",
       "</div>"
      ],
      "text/plain": [
       "     listing_id                                               name    host_id  \\\n",
       "4      22986519              Bedroom on the lively Lower East Side  154262349   \n",
       "50     20783900     Marvelous Manhattan Marble Hill Private Suites  148960265   \n",
       "60      1908852                Oversized Studio By Columbus Circle     684629   \n",
       "124    28659894  Private bedroom in prime Bushwick! Near Trains!!!  216235179   \n",
       "511    33619855          Modern & Spacious in trendy Crown Heights  253354074   \n",
       "521    25317793       Awesome Cozy Room in The Heart of Sunnyside!  136406167   \n",
       "\n",
       "    host_name          neighbourhood_full     room_type  price  \\\n",
       "4      Brooke  Manhattan, Lower East Side  Private Room  160.0   \n",
       "50      Randy      Manhattan, Marble Hill  Private Room   93.0   \n",
       "60      Alana  Manhattan, Upper West Side  Entire place  189.0   \n",
       "124      Nina          Brooklyn, Bushwick  Private Room   55.0   \n",
       "511   Yehudis     Brooklyn, Crown Heights  entire place  150.0   \n",
       "521      Kara           Queens, Sunnyside  Private Room   65.0   \n",
       "\n",
       "     number_of_reviews last_review  reviews_per_month  availability_365  \\\n",
       "4                   23  2019-06-12               2.29               102   \n",
       "50                   7  2018-10-06               0.32                 0   \n",
       "60                   7  2016-05-06               0.13                 0   \n",
       "124                  4  2019-04-12               0.58               358   \n",
       "511                  6  2019-05-27               2.50               148   \n",
       "521                 22  2019-06-11               1.63               131   \n",
       "\n",
       "       rating  number_of_stays   5_stars listing_added  latitude  longitude  \\\n",
       "4    3.822591             27.6  0.649383    2020-10-23  40.71884  -73.98354   \n",
       "50   4.868036              8.4  0.609263    2020-02-17  40.87618  -73.91266   \n",
       "60   4.841204              8.4  0.725995    2017-09-17  40.77060  -73.98919   \n",
       "124  4.916252              4.8  0.703117    2020-08-23  40.69988  -73.92072   \n",
       "511  3.462432              7.2  0.610929    2020-10-07  40.66387  -73.93840   \n",
       "521  4.442485             26.4  0.722388    2020-10-22  40.74090  -73.92696   \n",
       "\n",
       "     is_rated  \n",
       "4           1  \n",
       "50          1  \n",
       "60          1  \n",
       "124         1  \n",
       "511         1  \n",
       "521         1  "
      ]
     },
     "execution_count": 49,
     "metadata": {},
     "output_type": "execute_result"
    }
   ],
   "source": [
    "# Are there any listings with listing_added > last_review  Open Hotel before any reviews?\n",
    "inconsistent_dates = airbnb[airbnb['listing_added'].dt.date > airbnb['last_review'].dt.date]\n",
    "inconsistent_dates"
   ]
  }
 ],
 "metadata": {
  "kernelspec": {
   "display_name": "Python 3",
   "language": "python",
   "name": "python3"
  },
  "language_info": {
   "codemirror_mode": {
    "name": "ipython",
    "version": 3
   },
   "file_extension": ".py",
   "mimetype": "text/x-python",
   "name": "python",
   "nbconvert_exporter": "python",
   "pygments_lexer": "ipython3",
   "version": "3.13.0"
  }
 },
 "nbformat": 4,
 "nbformat_minor": 2
}
